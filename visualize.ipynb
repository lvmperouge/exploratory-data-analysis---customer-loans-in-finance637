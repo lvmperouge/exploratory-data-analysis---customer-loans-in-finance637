{
 "cells": [
  {
   "cell_type": "markdown",
   "metadata": {},
   "source": [
    "##Exploratory Data Analysis: Customer Loans in Finance \n"
   ]
  },
  {
   "cell_type": "code",
   "execution_count": 3,
   "metadata": {},
   "outputs": [
    {
     "ename": "ModuleNotFoundError",
     "evalue": "No module named 'sqlalchemy'",
     "output_type": "error",
     "traceback": [
      "\u001b[0;31m---------------------------------------------------------------------------\u001b[0m",
      "\u001b[0;31mModuleNotFoundError\u001b[0m                       Traceback (most recent call last)",
      "Cell \u001b[0;32mIn[3], line 1\u001b[0m\n\u001b[0;32m----> 1\u001b[0m \u001b[38;5;28;01mfrom\u001b[39;00m \u001b[38;5;21;01mdb_utils\u001b[39;00m \u001b[38;5;28;01mimport\u001b[39;00m load_dataframe\n\u001b[1;32m      2\u001b[0m \u001b[38;5;28;01mfrom\u001b[39;00m \u001b[38;5;21;01mdataframeinfo\u001b[39;00m \u001b[38;5;28;01mimport\u001b[39;00m DataFrameInfo\n\u001b[1;32m      3\u001b[0m \u001b[38;5;28;01mfrom\u001b[39;00m \u001b[38;5;21;01mdatatransform\u001b[39;00m \u001b[38;5;28;01mimport\u001b[39;00m DataTransform\n",
      "File \u001b[0;32m~/exploratory-data-analysis---customer-loans-in-finance637/db_utils.py:1\u001b[0m\n\u001b[0;32m----> 1\u001b[0m \u001b[38;5;28;01mfrom\u001b[39;00m \u001b[38;5;21;01msqlalchemy\u001b[39;00m \u001b[38;5;28;01mimport\u001b[39;00m create_engine\n\u001b[1;32m      2\u001b[0m \u001b[38;5;28;01mimport\u001b[39;00m \u001b[38;5;21;01mos\u001b[39;00m\n\u001b[1;32m      3\u001b[0m \u001b[38;5;28;01mimport\u001b[39;00m \u001b[38;5;21;01myaml\u001b[39;00m\n",
      "\u001b[0;31mModuleNotFoundError\u001b[0m: No module named 'sqlalchemy'"
     ]
    }
   ],
   "source": [
    "from db_utils import load_dataframe\n",
    "from dataframeinfo import DataFrameInfo\n",
    "from datatransform import DataTransform\n",
    "from dataframetransform import DataFrameTransform\n",
    "#from plotter import Plotter\n",
    "import os\n",
    "import pandas as pd\n",
    "import numpy as np\n",
    "import seaborn as sns\n",
    "\n",
    "dataframe = load_dataframe('loan_payments.csv')\n",
    "#familiarizing with data\n",
    "Stats = DataFrameInfo(dataframe)\n",
    "print(Stats.data_type())\n",
    "print(Stats.describe(['loan_amount']))\n",
    "print(Stats.distinct_values(['grade']))\n",
    "print(Stats.shape())\n",
    "print(Stats.null_values())"
   ]
  },
  {
   "cell_type": "code",
   "execution_count": 1,
   "metadata": {},
   "outputs": [
    {
     "ename": "NameError",
     "evalue": "name 'dataframe' is not defined",
     "output_type": "error",
     "traceback": [
      "\u001b[0;31m---------------------------------------------------------------------------\u001b[0m",
      "\u001b[0;31mNameError\u001b[0m                                 Traceback (most recent call last)",
      "Cell \u001b[0;32mIn[1], line 6\u001b[0m\n\u001b[1;32m      1\u001b[0m \u001b[38;5;66;03m#transforming the data\u001b[39;00m\n\u001b[1;32m      2\u001b[0m \u001b[38;5;66;03m# funded_amount, term, int_rate, employment_length,last_payment_date and last_credit_pull_date columns \u001b[39;00m\n\u001b[1;32m      3\u001b[0m \u001b[38;5;66;03m# have less than 10% of null data therefore values will be imputed; \u001b[39;00m\n\u001b[1;32m      4\u001b[0m \u001b[38;5;66;03m# mths_since_last_delinq, mths_since_last_record, mths_since_last_major_derog, next_payment_date  and\u001b[39;00m\n\u001b[1;32m      5\u001b[0m \u001b[38;5;66;03m# all have a very high percentage of null values and would be safer to drop entirely.\u001b[39;00m\n\u001b[0;32m----> 6\u001b[0m modified_dataframe \u001b[38;5;241m=\u001b[39m \u001b[43mdataframe\u001b[49m\n\u001b[1;32m      7\u001b[0m categorical_columns \u001b[38;5;241m=\u001b[39m [\u001b[38;5;124m'\u001b[39m\u001b[38;5;124mgrade\u001b[39m\u001b[38;5;124m'\u001b[39m, \u001b[38;5;124m'\u001b[39m\u001b[38;5;124msub_grade\u001b[39m\u001b[38;5;124m'\u001b[39m, \u001b[38;5;124m'\u001b[39m\u001b[38;5;124mhome_ownership\u001b[39m\u001b[38;5;124m'\u001b[39m, \u001b[38;5;124m'\u001b[39m\u001b[38;5;124mverification_status\u001b[39m\u001b[38;5;124m'\u001b[39m,\n\u001b[1;32m      8\u001b[0m                     \u001b[38;5;124m'\u001b[39m\u001b[38;5;124mloan_status\u001b[39m\u001b[38;5;124m'\u001b[39m, \u001b[38;5;124m'\u001b[39m\u001b[38;5;124mpayment_plan\u001b[39m\u001b[38;5;124m'\u001b[39m, \u001b[38;5;124m'\u001b[39m\u001b[38;5;124mpurpose\u001b[39m\u001b[38;5;124m'\u001b[39m,\u001b[38;5;124m'\u001b[39m\u001b[38;5;124mearliest_credit_line\u001b[39m\u001b[38;5;124m'\u001b[39m, \u001b[38;5;124m'\u001b[39m\u001b[38;5;124mapplication_type\u001b[39m\u001b[38;5;124m'\u001b[39m]\n\u001b[1;32m      9\u001b[0m datetime_columns \u001b[38;5;241m=\u001b[39m [\u001b[38;5;124m'\u001b[39m\u001b[38;5;124missue_date\u001b[39m\u001b[38;5;124m'\u001b[39m, \u001b[38;5;124m'\u001b[39m\u001b[38;5;124mlast_payment_date\u001b[39m\u001b[38;5;124m'\u001b[39m, \u001b[38;5;124m'\u001b[39m\u001b[38;5;124mnext_payment_date\u001b[39m\u001b[38;5;124m'\u001b[39m, \u001b[38;5;124m'\u001b[39m\u001b[38;5;124mlast_credit_pull_date\u001b[39m\u001b[38;5;124m'\u001b[39m]\n",
      "\u001b[0;31mNameError\u001b[0m: name 'dataframe' is not defined"
     ]
    }
   ],
   "source": [
    "#transforming the data\n",
    "# funded_amount, term, int_rate, employment_length,last_payment_date and last_credit_pull_date columns \n",
    "# have less than 10% of null data therefore values will be imputed; \n",
    "# mths_since_last_delinq, mths_since_last_record, mths_since_last_major_derog, next_payment_date  and\n",
    "# all have a very high percentage of null values and would be safer to drop entirely.\n",
    "modified_dataframe = dataframe\n",
    "categorical_columns = ['grade', 'sub_grade', 'home_ownership', 'verification_status',\n",
    "                    'loan_status', 'payment_plan', 'purpose','earliest_credit_line', 'application_type']\n",
    "datetime_columns = ['issue_date', 'last_payment_date', 'next_payment_date', 'last_credit_pull_date']\n",
    "\n",
    "float_columns = ['term', 'employment_length']\n",
    "TransformedData = DataTransform(modified_dataframe)\n",
    "TransformedData.to_categorical(categorical_columns)\n",
    "#TransformedData.to_date_time(datetime_columns)\n",
    "TransformedData.to_float(float_columns)\n",
    "modified_dataframe = TransformedData.dataframe\n",
    "modified_dataframe.to_csv('modified_loan_payments.csv')\n",
    "Stats = DataFrameInfo(modified_dataframe)\n",
    "print(Stats.data_type())"
   ]
  }
 ],
 "metadata": {
  "kernelspec": {
   "display_name": "Python 3",
   "language": "python",
   "name": "python3"
  },
  "language_info": {
   "codemirror_mode": {
    "name": "ipython",
    "version": 3
   },
   "file_extension": ".py",
   "mimetype": "text/x-python",
   "name": "python",
   "nbconvert_exporter": "python",
   "pygments_lexer": "ipython3",
   "version": "3.11.7"
  }
 },
 "nbformat": 4,
 "nbformat_minor": 2
}
